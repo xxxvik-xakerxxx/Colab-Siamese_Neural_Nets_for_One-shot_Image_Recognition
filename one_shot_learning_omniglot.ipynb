{
  "nbformat": 4,
  "nbformat_minor": 0,
  "metadata": {
    "colab": {
      "name": "One-shot learning- Omniglot",
      "provenance": [],
      "collapsed_sections": [
        "g8Vppu7kKRwr",
        "QpQL3NTN1sBV",
        "OrDuJ8_FJKdK",
        "S_0aTI01kIcZ"
      ],
      "toc_visible": true,
      "machine_shape": "hm"
    },
    "kernelspec": {
      "name": "python3",
      "display_name": "Python 3"
    },
    "accelerator": "GPU",
    "widgets": {
      "application/vnd.jupyter.widget-state+json": {
        "1a9df56839a640c9b606489c48cbe36f": {
          "model_module": "@jupyter-widgets/controls",
          "model_name": "HBoxModel",
          "state": {
            "_view_name": "HBoxView",
            "_dom_classes": [],
            "_model_name": "HBoxModel",
            "_view_module": "@jupyter-widgets/controls",
            "_model_module_version": "1.5.0",
            "_view_count": null,
            "_view_module_version": "1.5.0",
            "box_style": "",
            "layout": "IPY_MODEL_d23d92aaa8f5401d874d390b22e38303",
            "_model_module": "@jupyter-widgets/controls",
            "children": [
              "IPY_MODEL_aa021a4be037456f8fa73a8658526f8c",
              "IPY_MODEL_3fd5433bd0a441fe8b9e2bcd556df41b"
            ]
          }
        },
        "d23d92aaa8f5401d874d390b22e38303": {
          "model_module": "@jupyter-widgets/base",
          "model_name": "LayoutModel",
          "state": {
            "_view_name": "LayoutView",
            "grid_template_rows": null,
            "right": null,
            "justify_content": null,
            "_view_module": "@jupyter-widgets/base",
            "overflow": null,
            "_model_module_version": "1.2.0",
            "_view_count": null,
            "flex_flow": null,
            "width": null,
            "min_width": null,
            "border": null,
            "align_items": null,
            "bottom": null,
            "_model_module": "@jupyter-widgets/base",
            "top": null,
            "grid_column": null,
            "overflow_y": null,
            "overflow_x": null,
            "grid_auto_flow": null,
            "grid_area": null,
            "grid_template_columns": null,
            "flex": null,
            "_model_name": "LayoutModel",
            "justify_items": null,
            "grid_row": null,
            "max_height": null,
            "align_content": null,
            "visibility": null,
            "align_self": null,
            "height": null,
            "min_height": null,
            "padding": null,
            "grid_auto_rows": null,
            "grid_gap": null,
            "max_width": null,
            "order": null,
            "_view_module_version": "1.2.0",
            "grid_template_areas": null,
            "object_position": null,
            "object_fit": null,
            "grid_auto_columns": null,
            "margin": null,
            "display": null,
            "left": null
          }
        },
        "aa021a4be037456f8fa73a8658526f8c": {
          "model_module": "@jupyter-widgets/controls",
          "model_name": "FloatProgressModel",
          "state": {
            "_view_name": "ProgressView",
            "style": "IPY_MODEL_05c0e935e99e42ce882349a759374a43",
            "_dom_classes": [],
            "description": "",
            "_model_name": "FloatProgressModel",
            "bar_style": "success",
            "max": 1,
            "_view_module": "@jupyter-widgets/controls",
            "_model_module_version": "1.5.0",
            "value": 1,
            "_view_count": null,
            "_view_module_version": "1.5.0",
            "orientation": "horizontal",
            "min": 0,
            "description_tooltip": null,
            "_model_module": "@jupyter-widgets/controls",
            "layout": "IPY_MODEL_6bcb996e28924f12a85e54ec805887ce"
          }
        },
        "3fd5433bd0a441fe8b9e2bcd556df41b": {
          "model_module": "@jupyter-widgets/controls",
          "model_name": "HTMLModel",
          "state": {
            "_view_name": "HTMLView",
            "style": "IPY_MODEL_e967796832104a8e84f3a86cc07c6675",
            "_dom_classes": [],
            "description": "",
            "_model_name": "HTMLModel",
            "placeholder": "​",
            "_view_module": "@jupyter-widgets/controls",
            "_model_module_version": "1.5.0",
            "value": " 9469952/? [00:00&lt;00:00, 13676049.84it/s]",
            "_view_count": null,
            "_view_module_version": "1.5.0",
            "description_tooltip": null,
            "_model_module": "@jupyter-widgets/controls",
            "layout": "IPY_MODEL_004c0101d50041a4955f2e208f5ab7fc"
          }
        },
        "05c0e935e99e42ce882349a759374a43": {
          "model_module": "@jupyter-widgets/controls",
          "model_name": "ProgressStyleModel",
          "state": {
            "_view_name": "StyleView",
            "_model_name": "ProgressStyleModel",
            "description_width": "initial",
            "_view_module": "@jupyter-widgets/base",
            "_model_module_version": "1.5.0",
            "_view_count": null,
            "_view_module_version": "1.2.0",
            "bar_color": null,
            "_model_module": "@jupyter-widgets/controls"
          }
        },
        "6bcb996e28924f12a85e54ec805887ce": {
          "model_module": "@jupyter-widgets/base",
          "model_name": "LayoutModel",
          "state": {
            "_view_name": "LayoutView",
            "grid_template_rows": null,
            "right": null,
            "justify_content": null,
            "_view_module": "@jupyter-widgets/base",
            "overflow": null,
            "_model_module_version": "1.2.0",
            "_view_count": null,
            "flex_flow": null,
            "width": null,
            "min_width": null,
            "border": null,
            "align_items": null,
            "bottom": null,
            "_model_module": "@jupyter-widgets/base",
            "top": null,
            "grid_column": null,
            "overflow_y": null,
            "overflow_x": null,
            "grid_auto_flow": null,
            "grid_area": null,
            "grid_template_columns": null,
            "flex": null,
            "_model_name": "LayoutModel",
            "justify_items": null,
            "grid_row": null,
            "max_height": null,
            "align_content": null,
            "visibility": null,
            "align_self": null,
            "height": null,
            "min_height": null,
            "padding": null,
            "grid_auto_rows": null,
            "grid_gap": null,
            "max_width": null,
            "order": null,
            "_view_module_version": "1.2.0",
            "grid_template_areas": null,
            "object_position": null,
            "object_fit": null,
            "grid_auto_columns": null,
            "margin": null,
            "display": null,
            "left": null
          }
        },
        "e967796832104a8e84f3a86cc07c6675": {
          "model_module": "@jupyter-widgets/controls",
          "model_name": "DescriptionStyleModel",
          "state": {
            "_view_name": "StyleView",
            "_model_name": "DescriptionStyleModel",
            "description_width": "",
            "_view_module": "@jupyter-widgets/base",
            "_model_module_version": "1.5.0",
            "_view_count": null,
            "_view_module_version": "1.2.0",
            "_model_module": "@jupyter-widgets/controls"
          }
        },
        "004c0101d50041a4955f2e208f5ab7fc": {
          "model_module": "@jupyter-widgets/base",
          "model_name": "LayoutModel",
          "state": {
            "_view_name": "LayoutView",
            "grid_template_rows": null,
            "right": null,
            "justify_content": null,
            "_view_module": "@jupyter-widgets/base",
            "overflow": null,
            "_model_module_version": "1.2.0",
            "_view_count": null,
            "flex_flow": null,
            "width": null,
            "min_width": null,
            "border": null,
            "align_items": null,
            "bottom": null,
            "_model_module": "@jupyter-widgets/base",
            "top": null,
            "grid_column": null,
            "overflow_y": null,
            "overflow_x": null,
            "grid_auto_flow": null,
            "grid_area": null,
            "grid_template_columns": null,
            "flex": null,
            "_model_name": "LayoutModel",
            "justify_items": null,
            "grid_row": null,
            "max_height": null,
            "align_content": null,
            "visibility": null,
            "align_self": null,
            "height": null,
            "min_height": null,
            "padding": null,
            "grid_auto_rows": null,
            "grid_gap": null,
            "max_width": null,
            "order": null,
            "_view_module_version": "1.2.0",
            "grid_template_areas": null,
            "object_position": null,
            "object_fit": null,
            "grid_auto_columns": null,
            "margin": null,
            "display": null,
            "left": null
          }
        },
        "0e471ed0120d4bdfb3dbf0f6b150e31d": {
          "model_module": "@jupyter-widgets/controls",
          "model_name": "HBoxModel",
          "state": {
            "_view_name": "HBoxView",
            "_dom_classes": [],
            "_model_name": "HBoxModel",
            "_view_module": "@jupyter-widgets/controls",
            "_model_module_version": "1.5.0",
            "_view_count": null,
            "_view_module_version": "1.5.0",
            "box_style": "",
            "layout": "IPY_MODEL_8eb07cc7316746559f2c0434846420e8",
            "_model_module": "@jupyter-widgets/controls",
            "children": [
              "IPY_MODEL_58f1b76cf36a48b78e1c760668d196df",
              "IPY_MODEL_1cf4095f6b0e4a908c733f1dbf3112aa"
            ]
          }
        },
        "8eb07cc7316746559f2c0434846420e8": {
          "model_module": "@jupyter-widgets/base",
          "model_name": "LayoutModel",
          "state": {
            "_view_name": "LayoutView",
            "grid_template_rows": null,
            "right": null,
            "justify_content": null,
            "_view_module": "@jupyter-widgets/base",
            "overflow": null,
            "_model_module_version": "1.2.0",
            "_view_count": null,
            "flex_flow": null,
            "width": null,
            "min_width": null,
            "border": null,
            "align_items": null,
            "bottom": null,
            "_model_module": "@jupyter-widgets/base",
            "top": null,
            "grid_column": null,
            "overflow_y": null,
            "overflow_x": null,
            "grid_auto_flow": null,
            "grid_area": null,
            "grid_template_columns": null,
            "flex": null,
            "_model_name": "LayoutModel",
            "justify_items": null,
            "grid_row": null,
            "max_height": null,
            "align_content": null,
            "visibility": null,
            "align_self": null,
            "height": null,
            "min_height": null,
            "padding": null,
            "grid_auto_rows": null,
            "grid_gap": null,
            "max_width": null,
            "order": null,
            "_view_module_version": "1.2.0",
            "grid_template_areas": null,
            "object_position": null,
            "object_fit": null,
            "grid_auto_columns": null,
            "margin": null,
            "display": null,
            "left": null
          }
        },
        "58f1b76cf36a48b78e1c760668d196df": {
          "model_module": "@jupyter-widgets/controls",
          "model_name": "FloatProgressModel",
          "state": {
            "_view_name": "ProgressView",
            "style": "IPY_MODEL_db81c8b06a774163b194f648a08c6ac2",
            "_dom_classes": [],
            "description": "",
            "_model_name": "FloatProgressModel",
            "bar_style": "success",
            "max": 1,
            "_view_module": "@jupyter-widgets/controls",
            "_model_module_version": "1.5.0",
            "value": 1,
            "_view_count": null,
            "_view_module_version": "1.5.0",
            "orientation": "horizontal",
            "min": 0,
            "description_tooltip": null,
            "_model_module": "@jupyter-widgets/controls",
            "layout": "IPY_MODEL_229816c1856e46029beeb69744b31935"
          }
        },
        "1cf4095f6b0e4a908c733f1dbf3112aa": {
          "model_module": "@jupyter-widgets/controls",
          "model_name": "HTMLModel",
          "state": {
            "_view_name": "HTMLView",
            "style": "IPY_MODEL_5f374f5f5be146b3b4d6b9d838208156",
            "_dom_classes": [],
            "description": "",
            "_model_name": "HTMLModel",
            "placeholder": "​",
            "_view_module": "@jupyter-widgets/controls",
            "_model_module_version": "1.5.0",
            "value": " 6463488/? [00:00&lt;00:00, 8320708.52it/s]",
            "_view_count": null,
            "_view_module_version": "1.5.0",
            "description_tooltip": null,
            "_model_module": "@jupyter-widgets/controls",
            "layout": "IPY_MODEL_e0673834154e4395a8bc20ee75043e47"
          }
        },
        "db81c8b06a774163b194f648a08c6ac2": {
          "model_module": "@jupyter-widgets/controls",
          "model_name": "ProgressStyleModel",
          "state": {
            "_view_name": "StyleView",
            "_model_name": "ProgressStyleModel",
            "description_width": "initial",
            "_view_module": "@jupyter-widgets/base",
            "_model_module_version": "1.5.0",
            "_view_count": null,
            "_view_module_version": "1.2.0",
            "bar_color": null,
            "_model_module": "@jupyter-widgets/controls"
          }
        },
        "229816c1856e46029beeb69744b31935": {
          "model_module": "@jupyter-widgets/base",
          "model_name": "LayoutModel",
          "state": {
            "_view_name": "LayoutView",
            "grid_template_rows": null,
            "right": null,
            "justify_content": null,
            "_view_module": "@jupyter-widgets/base",
            "overflow": null,
            "_model_module_version": "1.2.0",
            "_view_count": null,
            "flex_flow": null,
            "width": null,
            "min_width": null,
            "border": null,
            "align_items": null,
            "bottom": null,
            "_model_module": "@jupyter-widgets/base",
            "top": null,
            "grid_column": null,
            "overflow_y": null,
            "overflow_x": null,
            "grid_auto_flow": null,
            "grid_area": null,
            "grid_template_columns": null,
            "flex": null,
            "_model_name": "LayoutModel",
            "justify_items": null,
            "grid_row": null,
            "max_height": null,
            "align_content": null,
            "visibility": null,
            "align_self": null,
            "height": null,
            "min_height": null,
            "padding": null,
            "grid_auto_rows": null,
            "grid_gap": null,
            "max_width": null,
            "order": null,
            "_view_module_version": "1.2.0",
            "grid_template_areas": null,
            "object_position": null,
            "object_fit": null,
            "grid_auto_columns": null,
            "margin": null,
            "display": null,
            "left": null
          }
        },
        "5f374f5f5be146b3b4d6b9d838208156": {
          "model_module": "@jupyter-widgets/controls",
          "model_name": "DescriptionStyleModel",
          "state": {
            "_view_name": "StyleView",
            "_model_name": "DescriptionStyleModel",
            "description_width": "",
            "_view_module": "@jupyter-widgets/base",
            "_model_module_version": "1.5.0",
            "_view_count": null,
            "_view_module_version": "1.2.0",
            "_model_module": "@jupyter-widgets/controls"
          }
        },
        "e0673834154e4395a8bc20ee75043e47": {
          "model_module": "@jupyter-widgets/base",
          "model_name": "LayoutModel",
          "state": {
            "_view_name": "LayoutView",
            "grid_template_rows": null,
            "right": null,
            "justify_content": null,
            "_view_module": "@jupyter-widgets/base",
            "overflow": null,
            "_model_module_version": "1.2.0",
            "_view_count": null,
            "flex_flow": null,
            "width": null,
            "min_width": null,
            "border": null,
            "align_items": null,
            "bottom": null,
            "_model_module": "@jupyter-widgets/base",
            "top": null,
            "grid_column": null,
            "overflow_y": null,
            "overflow_x": null,
            "grid_auto_flow": null,
            "grid_area": null,
            "grid_template_columns": null,
            "flex": null,
            "_model_name": "LayoutModel",
            "justify_items": null,
            "grid_row": null,
            "max_height": null,
            "align_content": null,
            "visibility": null,
            "align_self": null,
            "height": null,
            "min_height": null,
            "padding": null,
            "grid_auto_rows": null,
            "grid_gap": null,
            "max_width": null,
            "order": null,
            "_view_module_version": "1.2.0",
            "grid_template_areas": null,
            "object_position": null,
            "object_fit": null,
            "grid_auto_columns": null,
            "margin": null,
            "display": null,
            "left": null
          }
        }
      }
    }
  },
  "cells": [
    {
      "cell_type": "code",
      "metadata": {
        "id": "xWKGvKjDHpmP",
        "colab": {
          "base_uri": "https://localhost:8080/"
        },
        "outputId": "1740a24d-8d5a-4bc3-c34b-bcaf348d965b"
      },
      "source": [
        "!nvidia-smi"
      ],
      "execution_count": null,
      "outputs": [
        {
          "output_type": "stream",
          "text": [
            "Fri Feb 12 19:01:48 2021       \n",
            "+-----------------------------------------------------------------------------+\n",
            "| NVIDIA-SMI 460.39       Driver Version: 460.32.03    CUDA Version: 11.2     |\n",
            "|-------------------------------+----------------------+----------------------+\n",
            "| GPU  Name        Persistence-M| Bus-Id        Disp.A | Volatile Uncorr. ECC |\n",
            "| Fan  Temp  Perf  Pwr:Usage/Cap|         Memory-Usage | GPU-Util  Compute M. |\n",
            "|                               |                      |               MIG M. |\n",
            "|===============================+======================+======================|\n",
            "|   0  Tesla V100-SXM2...  Off  | 00000000:00:04.0 Off |                    0 |\n",
            "| N/A   36C    P0    24W / 300W |      0MiB / 16160MiB |      0%      Default |\n",
            "|                               |                      |                  N/A |\n",
            "+-------------------------------+----------------------+----------------------+\n",
            "                                                                               \n",
            "+-----------------------------------------------------------------------------+\n",
            "| Processes:                                                                  |\n",
            "|  GPU   GI   CI        PID   Type   Process name                  GPU Memory |\n",
            "|        ID   ID                                                   Usage      |\n",
            "|=============================================================================|\n",
            "|  No running processes found                                                 |\n",
            "+-----------------------------------------------------------------------------+\n"
          ],
          "name": "stdout"
        }
      ]
    },
    {
      "cell_type": "code",
      "metadata": {
        "colab": {
          "base_uri": "https://localhost:8080/"
        },
        "id": "p2mKLb6VSRNG",
        "outputId": "acfd521b-b254-4a6d-cac7-8d2dde4a5168"
      },
      "source": [
        "# Mount your google drive\n",
        "from google.colab import drive\n",
        "drive.mount('/content/drive')"
      ],
      "execution_count": null,
      "outputs": [
        {
          "output_type": "stream",
          "text": [
            "Mounted at /content/drive\n"
          ],
          "name": "stdout"
        }
      ]
    },
    {
      "cell_type": "code",
      "metadata": {
        "id": "16o1iKYCMNwA"
      },
      "source": [
        "import torch\r\n",
        "import torch.nn as nn\r\n",
        "import torch.nn.functional as F\r\n",
        "from torch.utils.data import Dataset, DataLoader, random_split\r\n",
        "from torchvision import transforms, utils, datasets\r\n",
        "import torch.optim as optim\r\n",
        "\r\n",
        "import numpy as np\r\n",
        "from PIL import Image\r\n",
        "import os\r\n",
        "from tqdm import tqdm\r\n",
        "import random\r\n",
        "import matplotlib.pyplot as plt"
      ],
      "execution_count": null,
      "outputs": []
    },
    {
      "cell_type": "code",
      "metadata": {
        "colab": {
          "base_uri": "https://localhost:8080/"
        },
        "id": "_rWPYW31YWNk",
        "outputId": "91a04d78-d041-4aeb-c2ce-02593d7da50c"
      },
      "source": [
        "print(torch.__version__)"
      ],
      "execution_count": null,
      "outputs": [
        {
          "output_type": "stream",
          "text": [
            "1.7.0+cu101\n"
          ],
          "name": "stdout"
        }
      ]
    },
    {
      "cell_type": "markdown",
      "metadata": {
        "id": "g8Vppu7kKRwr"
      },
      "source": [
        "# **Model**"
      ]
    },
    {
      "cell_type": "code",
      "metadata": {
        "id": "XATrJAOhNJas"
      },
      "source": [
        "# Model\r\n",
        "class Siamese_Net(nn.Module):\r\n",
        "  def __init__(self):\r\n",
        "    super(Siamese_Net,self).__init__()\r\n",
        "\r\n",
        "    self.conv1=nn.Conv2d(1,64,10)\r\n",
        "    self.conv2=nn.Conv2d(64,128,7)\r\n",
        "    self.conv3=nn.Conv2d(128,128,4)\r\n",
        "    self.conv4=nn.Conv2d(128,256,4)\r\n",
        "\r\n",
        "    self.Linear1=nn.Linear(9216,4096)\r\n",
        "    self.flatten=nn.Flatten()\r\n",
        "    self.Linear2=nn.Linear(4096,1)\r\n",
        "\r\n",
        "    self.relu=nn.ReLU()\r\n",
        "    self.maxP=nn.MaxPool2d(2)\r\n",
        "    self.sigm=nn.Sigmoid()\r\n",
        "\r\n",
        "    # self.initialize_weights()\r\n",
        "\r\n",
        "  def twin(self,x):\r\n",
        "\r\n",
        "    out=self.conv1(x)\r\n",
        "    out=self.relu(out)\r\n",
        "    out=self.maxP(out)\r\n",
        "\r\n",
        "    out=self.conv2(out)\r\n",
        "    out=self.relu(out)\r\n",
        "    out=self.maxP(out)\r\n",
        "\r\n",
        "    out=self.conv3(out)\r\n",
        "    out=self.relu(out)\r\n",
        "    out=self.maxP(out)\r\n",
        "\r\n",
        "    out=self.conv4(out)\r\n",
        "    out=self.relu(out)\r\n",
        "\r\n",
        "    # test=out.view(out.size()[0], -1)\r\n",
        "    out=self.flatten(out)\r\n",
        "    # print(test==out) ##result -> true\r\n",
        "\r\n",
        "    out=self.Linear1(out)\r\n",
        "    out=self.sigm(out)\r\n",
        "\r\n",
        "    return out\r\n",
        "\r\n",
        "  def forward(self,x1,x2):\r\n",
        "\r\n",
        "    x1_out=self.twin(x1)\r\n",
        "    x2_out=self.twin(x2)\r\n",
        "\r\n",
        "    # score= linear(distance between vectors)\r\n",
        "    score=self.Linear2(torch.abs(x1_out-x2_out))\r\n",
        "\r\n",
        "    # print(score)\r\n",
        "    \r\n",
        "    return score\r\n",
        "\r\n",
        "  def initialize_weights(self):\r\n",
        "    for m in self.modules():\r\n",
        "      if isinstance(m,nn.Conv2d):\r\n",
        "        nn.init.normal_(m.weight,0,1e-2)\r\n",
        "        nn.init.normal_(m.bias, 0.5, 1e-2)\r\n",
        "      if isinstance(m,nn.Linear):\r\n",
        "        nn.init.normal_(m.weight,0,2e-2)\r\n",
        "        nn.init.normal_(m.bias, 0.5, 1e-2)\r\n",
        "\r\n"
      ],
      "execution_count": null,
      "outputs": []
    },
    {
      "cell_type": "code",
      "metadata": {
        "colab": {
          "base_uri": "https://localhost:8080/"
        },
        "id": "BfSlk9mUYTnz",
        "outputId": "7ed166d5-b59d-4012-a31f-546fc5a2bff1"
      },
      "source": [
        "#testing\r\n",
        "net=Siamese_Net()\r\n",
        "# print(net)\r\n",
        "dummyx1=torch.randn(64,1,105,105)\r\n",
        "dummyx2=torch.randn(64,1,105,105)\r\n",
        "o=net(dummyx1,dummyx2)\r\n",
        "print(o.shape)"
      ],
      "execution_count": null,
      "outputs": [
        {
          "output_type": "stream",
          "text": [
            "torch.Size([64, 1])\n"
          ],
          "name": "stdout"
        }
      ]
    },
    {
      "cell_type": "markdown",
      "metadata": {
        "id": "QpQL3NTN1sBV"
      },
      "source": [
        "# **Omniglot Dataset**"
      ]
    },
    {
      "cell_type": "code",
      "metadata": {
        "colab": {
          "base_uri": "https://localhost:8080/",
          "referenced_widgets": [
            "1a9df56839a640c9b606489c48cbe36f",
            "d23d92aaa8f5401d874d390b22e38303",
            "aa021a4be037456f8fa73a8658526f8c",
            "3fd5433bd0a441fe8b9e2bcd556df41b",
            "05c0e935e99e42ce882349a759374a43",
            "6bcb996e28924f12a85e54ec805887ce",
            "e967796832104a8e84f3a86cc07c6675",
            "004c0101d50041a4955f2e208f5ab7fc",
            "0e471ed0120d4bdfb3dbf0f6b150e31d",
            "8eb07cc7316746559f2c0434846420e8",
            "58f1b76cf36a48b78e1c760668d196df",
            "1cf4095f6b0e4a908c733f1dbf3112aa",
            "db81c8b06a774163b194f648a08c6ac2",
            "229816c1856e46029beeb69744b31935",
            "5f374f5f5be146b3b4d6b9d838208156",
            "e0673834154e4395a8bc20ee75043e47"
          ]
        },
        "id": "jdcAQouHqIT3",
        "outputId": "11e59e7f-8eac-4097-cc77-1cfa94ad8fa6"
      },
      "source": [
        "# download the dataset\r\n",
        "omni_train=datasets.Omniglot(root='/content', \r\n",
        "                       background= True,  \r\n",
        "                       download = True\r\n",
        "                       )\r\n",
        "\r\n",
        "omni_test=datasets.Omniglot(root='/content', \r\n",
        "                       background= False,  \r\n",
        "                       download = True\r\n",
        "                       )"
      ],
      "execution_count": null,
      "outputs": [
        {
          "output_type": "stream",
          "text": [
            "Downloading https://drive.google.com/file/d/1fZrEpX3aF_rYF-FQ8L-0lWcnlAKg-PQN/view?usp=sharing to /content/omniglot-py/images_background.zip\n"
          ],
          "name": "stdout"
        },
        {
          "output_type": "display_data",
          "data": {
            "application/vnd.jupyter.widget-view+json": {
              "model_id": "1a9df56839a640c9b606489c48cbe36f",
              "version_minor": 0,
              "version_major": 2
            },
            "text/plain": [
              "HBox(children=(FloatProgress(value=1.0, bar_style='info', max=1.0), HTML(value='')))"
            ]
          },
          "metadata": {
            "tags": []
          }
        },
        {
          "output_type": "stream",
          "text": [
            "Extracting /content/omniglot-py/images_background.zip to /content/omniglot-py\n",
            "\n",
            "Downloading https://drive.google.com/file/d/1usd45Sq-JqOMKTlEqdiYD6enwnSJwJg1/view?usp=sharing to /content/omniglot-py/images_evaluation.zip\n"
          ],
          "name": "stdout"
        },
        {
          "output_type": "display_data",
          "data": {
            "application/vnd.jupyter.widget-view+json": {
              "model_id": "0e471ed0120d4bdfb3dbf0f6b150e31d",
              "version_minor": 0,
              "version_major": 2
            },
            "text/plain": [
              "HBox(children=(FloatProgress(value=1.0, bar_style='info', max=1.0), HTML(value='')))"
            ]
          },
          "metadata": {
            "tags": []
          }
        },
        {
          "output_type": "stream",
          "text": [
            "Extracting /content/omniglot-py/images_evaluation.zip to /content/omniglot-py\n",
            "\n"
          ],
          "name": "stdout"
        }
      ]
    },
    {
      "cell_type": "code",
      "metadata": {
        "id": "QXMNU4dOu6uu"
      },
      "source": [
        "# Omniglot dataset- didnt rename cause would have had to rename it everywhere\r\n",
        "class Face_Dataset(Dataset):\r\n",
        "  def __init__(self,root_dir, job='train',ways=10,transform=None):\r\n",
        "    super(Face_Dataset,self).__init__()\r\n",
        "    self.root_dir=root_dir\r\n",
        "    self.job=job\r\n",
        "    self.all_classes=os.listdir(root_dir)\r\n",
        "    self.num_classes=len(self.all_classes)\r\n",
        "    self.face_list, self.number_of_faces=self.get_char_list()\r\n",
        "    self.ways=ways\r\n",
        "    self.transform=transform\r\n",
        "    print(self.all_classes)\r\n",
        "\r\n",
        "  def __len__(self):\r\n",
        "    return self.number_of_faces\r\n",
        "\r\n",
        "  def __getitem__(self,idx):\r\n",
        "    if self.job=='train':\r\n",
        "      is_Same=1\r\n",
        "      # Same person if even\r\n",
        "      if idx%2==0:\r\n",
        "        path_img_1,path_img_2,_=self.get_same()\r\n",
        "      # different people \r\n",
        "      else:\r\n",
        "        is_Same=0\r\n",
        "        path_img_1,path_img_2=self.get_different()\r\n",
        "\r\n",
        "      img1=Image.open(path_img_1).convert('L')\r\n",
        "      img2=Image.open(path_img_2).convert('L')\r\n",
        "      \r\n",
        "      if self.transform:\r\n",
        "        img1=self.transform(img1)\r\n",
        "        img2=self.transform(img2)\r\n",
        "\r\n",
        "      return img1,img2,torch.tensor([is_Same], dtype=torch.float32)\r\n",
        "\r\n",
        "    else:\r\n",
        "      img_list=[]\r\n",
        "      ways=self.ways\r\n",
        "\r\n",
        "      # grab two images from the same class\r\n",
        "      path_img_1,path_img_2,id_to_avoid=self.get_same()\r\n",
        "      img_list+=[path_img_1,path_img_2]\r\n",
        "\r\n",
        "      ways=(ways-2)//2\r\n",
        "\r\n",
        "      # and remaining from different classes\r\n",
        "      for i in range(ways):\r\n",
        "        img_list+=self.get_different(id_to_avoid)\r\n",
        "\r\n",
        "      for i in range(len(img_list)):\r\n",
        "        img=Image.open(img_list[i]).convert('L')\r\n",
        "        if self.transform:\r\n",
        "          img=self.transform(img)\r\n",
        "        img_list[i]=img\r\n",
        "\r\n",
        "      img_list_tensor=torch.stack(img_list)\r\n",
        "      return img_list_tensor\r\n",
        "\r\n",
        "  def get_char_list(self) -> (dict, int):\r\n",
        "      a_list,n_letters={},0\r\n",
        "      for idx, alpha in enumerate(self.all_classes):\r\n",
        "        a_list[idx]=[]\r\n",
        "        for char in os.listdir(os.path.join(self.root_dir,alpha)):\r\n",
        "          l_list=[]\r\n",
        "          for letter in os.listdir(os.path.join(self.root_dir,alpha,char)):\r\n",
        "            l_list.append(os.path.join(self.root_dir,alpha,char,letter))\r\n",
        "            n_letters+=1\r\n",
        "          a_list[idx].append(l_list)\r\n",
        "      return a_list,n_letters\r\n",
        "\r\n",
        "  def get_same(self) -> (str, str, int):\r\n",
        "    alpha_id=random.randint(0,self.num_classes-1)\r\n",
        "    char_id=random.randint(0,len(self.face_list[alpha_id])-1)\r\n",
        "    path_img_1=random.choice(self.face_list[alpha_id][char_id])\r\n",
        "    path_img_2=random.choice(self.face_list[alpha_id][char_id])\r\n",
        "    return path_img_1,path_img_2,char_id\r\n",
        "\r\n",
        "  def get_different(self, avoid=None)-> (str, str):\r\n",
        "\r\n",
        "    alpha_id_1=random.randint(0,self.num_classes-1)\r\n",
        "    char_id_1=random.randint(0,len(self.face_list[alpha_id_1])-1)\r\n",
        "    while char_id_1==avoid:\r\n",
        "      char_id_1=random.randint(0,len(self.face_list[alpha_id_1])-1)\r\n",
        "\r\n",
        "    alpha_id_2=random.randint(0,self.num_classes-1)\r\n",
        "    char_id_2=random.randint(0,len(self.face_list[alpha_id_2])-1)\r\n",
        "    while char_id_2==char_id_1 or char_id_2==avoid:\r\n",
        "      char_id_2=random.randint(0,len(self.face_list[alpha_id_2])-1)\r\n",
        "\r\n",
        "    path_img_1=random.choice(self.face_list[alpha_id_1][char_id_1])\r\n",
        "    path_img_2=random.choice(self.face_list[alpha_id_2][char_id_2])\r\n",
        "    return path_img_1,path_img_2\r\n",
        "      "
      ],
      "execution_count": null,
      "outputs": []
    },
    {
      "cell_type": "code",
      "metadata": {
        "colab": {
          "base_uri": "https://localhost:8080/"
        },
        "id": "N5G3LGAYK_aX",
        "outputId": "68667e1c-4eb1-45bc-88bf-20ab073dba66"
      },
      "source": [
        "a=torch.randn((64,3,122,450),dtype=torch.float32)\r\n",
        "b=torch.randn((64,3,122,450),dtype=torch.float32)\r\n",
        "c=torch.randn((64,3,122,450),dtype=torch.float32)\r\n",
        "l=[a,b,c]\r\n",
        "lt=torch.stack(l)\r\n",
        "print(lt.shape)\r\n",
        "print(lt[0,:].shape)"
      ],
      "execution_count": null,
      "outputs": [
        {
          "output_type": "stream",
          "text": [
            "torch.Size([3, 64, 3, 122, 450])\n",
            "torch.Size([64, 3, 122, 450])\n"
          ],
          "name": "stdout"
        }
      ]
    },
    {
      "cell_type": "code",
      "metadata": {
        "id": "59Qc59pc2FDS"
      },
      "source": [
        "# omniglot root\r\n",
        "train_root='/content/omniglot-py/images_background'\r\n",
        "val_root='/content/omniglot-py/images_evaluation'\r\n",
        "batch_size=16\r\n",
        "ways=10"
      ],
      "execution_count": null,
      "outputs": []
    },
    {
      "cell_type": "code",
      "metadata": {
        "colab": {
          "base_uri": "https://localhost:8080/"
        },
        "id": "G3ckh_gl9TpM",
        "outputId": "83cf19df-1c9e-4f6a-b453-c7cab79ef4a6"
      },
      "source": [
        "# Omniglot Calculating the mean and std of the data\r\n",
        "\r\n",
        "def find_mean_std(datasets,batch_s=1):\r\n",
        "  \r\n",
        "  means_stds=[]\r\n",
        "  for dataset in datasets:\r\n",
        "    to_norm_loader=DataLoader(dataset=dataset, batch_size=batch_s)\r\n",
        "    print('Total number of samples: ', len(dataset))\r\n",
        "\r\n",
        "    # #run for 1 batch \r\n",
        "    # data_iter=iter(to_norm_loader)\r\n",
        "    # img,_,__=data_iter.next()\r\n",
        "    # print(img.shape)\r\n",
        "    \r\n",
        "    channels_sum, channels_squared_sum, num_batches=0, 0, 0\r\n",
        "    for img,_,__ in to_norm_loader:\r\n",
        "      # print(img.shape)#[batch,C,H,W]\r\n",
        "      channels_sum+=torch.mean(img,dim=[0,2,3])\r\n",
        "      channels_squared_sum+=torch.mean(img**2,dim=[0,2,3])\r\n",
        "      num_batches+=1\r\n",
        "    \r\n",
        "    mean=channels_sum/num_batches\r\n",
        "    std=(channels_squared_sum/num_batches- mean**2)**0.5\r\n",
        "    means_stds.append(mean)\r\n",
        "    means_stds.append(std)\r\n",
        "  return means_stds\r\n",
        "\r\n",
        "to_be_norm_dataset=Face_Dataset(train_root, transform=transforms.Compose([\r\n",
        "                                                             transforms.Resize((105,105)),\r\n",
        "                                                             transforms.ToTensor()\r\n",
        "                                           ]))\r\n",
        "\r\n",
        "to_be_norm_dataset_val=Face_Dataset(val_root, transform=transforms.Compose([\r\n",
        "                                                             transforms.Resize((105,105)),\r\n",
        "                                                             transforms.ToTensor()\r\n",
        "                                           ]))\r\n",
        "\r\n",
        "mean, std,mean_val,std_val= find_mean_std([to_be_norm_dataset, to_be_norm_dataset_val], batch_s=batch_size)\r\n",
        "\r\n",
        "print(f'mean: {mean.item()}    std: {std.item()}     val mean: {mean_val.item()}    val std: {std_val.item()}')"
      ],
      "execution_count": null,
      "outputs": [
        {
          "output_type": "stream",
          "text": [
            "['Syriac_(Estrangelo)', 'Tagalog', 'Asomtavruli_(Georgian)', 'Hebrew', 'Sanskrit', 'Inuktitut_(Canadian_Aboriginal_Syllabics)', 'Cyrillic', 'Ojibwe_(Canadian_Aboriginal_Syllabics)', 'Korean', 'Armenian', 'Bengali', 'Gujarati', 'Mkhedruli_(Georgian)', 'Arcadian', 'Anglo-Saxon_Futhorc', 'Latin', 'Futurama', 'Grantha', 'Tifinagh', 'Japanese_(katakana)', 'N_Ko', 'Blackfoot_(Canadian_Aboriginal_Syllabics)', 'Burmese_(Myanmar)', 'Alphabet_of_the_Magi', 'Greek', 'Japanese_(hiragana)', 'Balinese', 'Braille', 'Malay_(Jawi_-_Arabic)', 'Early_Aramaic']\n",
            "['Avesta', 'Old_Church_Slavonic_(Cyrillic)', 'Sylheti', 'Tengwar', 'Atemayar_Qelisayer', 'Mongolian', 'Glagolitic', 'Syriac_(Serto)', 'Oriya', 'Kannada', 'Angelic', 'Tibetan', 'Malayalam', 'Keble', 'Ge_ez', 'Gurmukhi', 'Aurek-Besh', 'ULOG', 'Atlantean', 'Manipuri']\n",
            "Total number of samples:  19280\n",
            "Total number of samples:  13180\n",
            "mean: 0.9244393110275269    std: 0.26429393887519836     val mean: 0.9171667695045471    val std: 0.27562999725341797\n"
          ],
          "name": "stdout"
        }
      ]
    },
    {
      "cell_type": "code",
      "metadata": {
        "colab": {
          "base_uri": "https://localhost:8080/"
        },
        "id": "_yOiFlpFCxwt",
        "outputId": "8995c0bc-c79b-4940-dcbe-ac961ac988be"
      },
      "source": [
        "# prepare datasets(OMNIGLOT)\r\n",
        "\r\n",
        "transform=transforms.Compose([\r\n",
        "                              transforms.Resize((105,105)),\r\n",
        "                              transforms.RandomAffine(30,shear=0.2),\r\n",
        "                              transforms.ToTensor(),\r\n",
        "                              transforms.Normalize([mean.item()],[std.item()]),\r\n",
        "])\r\n",
        "# dataset=Face_Dataset(root,transform=transform)\r\n",
        "dataset_train=Face_Dataset(train_root, transform=transform)\r\n",
        "dataset_val=Face_Dataset(val_root,job='val', ways=ways, transform=transforms.Compose([transforms.Resize((105,105)),\r\n",
        "                                                            transforms.ToTensor(),\r\n",
        "                                                            transforms.Normalize([mean_val.item()],[std_val.item()])\r\n",
        "                                                            ])\r\n",
        ")\r\n",
        "\r\n",
        "dataloader_train=DataLoader(dataset=dataset_train, batch_size=batch_size)\r\n",
        "dataloader_val=DataLoader(dataset=dataset_val, batch_size=batch_size)\r\n"
      ],
      "execution_count": null,
      "outputs": [
        {
          "output_type": "stream",
          "text": [
            "['Syriac_(Estrangelo)', 'Tagalog', 'Asomtavruli_(Georgian)', 'Hebrew', 'Sanskrit', 'Inuktitut_(Canadian_Aboriginal_Syllabics)', 'Cyrillic', 'Ojibwe_(Canadian_Aboriginal_Syllabics)', 'Korean', 'Armenian', 'Bengali', 'Gujarati', 'Mkhedruli_(Georgian)', 'Arcadian', 'Anglo-Saxon_Futhorc', 'Latin', 'Futurama', 'Grantha', 'Tifinagh', 'Japanese_(katakana)', 'N_Ko', 'Blackfoot_(Canadian_Aboriginal_Syllabics)', 'Burmese_(Myanmar)', 'Alphabet_of_the_Magi', 'Greek', 'Japanese_(hiragana)', 'Balinese', 'Braille', 'Malay_(Jawi_-_Arabic)', 'Early_Aramaic']\n",
            "['Avesta', 'Old_Church_Slavonic_(Cyrillic)', 'Sylheti', 'Tengwar', 'Atemayar_Qelisayer', 'Mongolian', 'Glagolitic', 'Syriac_(Serto)', 'Oriya', 'Kannada', 'Angelic', 'Tibetan', 'Malayalam', 'Keble', 'Ge_ez', 'Gurmukhi', 'Aurek-Besh', 'ULOG', 'Atlantean', 'Manipuri']\n"
          ],
          "name": "stdout"
        }
      ]
    },
    {
      "cell_type": "markdown",
      "metadata": {
        "id": "OrDuJ8_FJKdK"
      },
      "source": [
        "# Check if the datasets are working"
      ]
    },
    {
      "cell_type": "code",
      "metadata": {
        "colab": {
          "base_uri": "https://localhost:8080/"
        },
        "id": "_ot9oW_opDcW",
        "outputId": "15948e4e-556a-4ffe-eedb-ae8cb5e507ec"
      },
      "source": [
        "# Testing train Dataset\r\n",
        "img1,img2,are_Same=dataset_train[1]\r\n",
        "\r\n",
        "print(are_Same.item())\r\n",
        "print(img1.shape,'\\n',img2.shape)\r\n",
        "\r\n",
        "# convert to PIL and multiply with std and add mean to un-normalize the images for viewing purposes only\r\n",
        "show_img1=transforms.ToPILImage()(img1.mul_(std).add_(mean))\r\n",
        "show_img2=transforms.ToPILImage()(img2.mul_(std).add_(mean))\r\n",
        "\r\n",
        "print(show_img1.size,'\\n',show_img2.size)\r\n",
        "\r\n",
        "plt.subplot(121)\r\n",
        "plt.imshow(show_img1,cmap='gray')\r\n",
        "\r\n",
        "plt.subplot(122)\r\n",
        "plt.imshow(show_img2,cmap='gray')\r\n"
      ],
      "execution_count": null,
      "outputs": [
        {
          "output_type": "stream",
          "text": [
            "0.0\n",
            "torch.Size([1, 105, 105]) \n",
            " torch.Size([1, 105, 105])\n",
            "(105, 105) \n",
            " (105, 105)\n"
          ],
          "name": "stdout"
        },
        {
          "output_type": "execute_result",
          "data": {
            "text/plain": [
              "<matplotlib.image.AxesImage at 0x7f187b0e9438>"
            ]
          },
          "metadata": {
            "tags": []
          },
          "execution_count": 11
        },
        {
          "output_type": "display_data",
          "data": {
            "image/png": "[encoded data removed]",
            "text/plain": [
              "<Figure size 432x288 with 2 Axes>"
            ]
          },
          "metadata": {
            "tags": [],
            "needs_background": "light"
          }
        }
      ]
    },
    {
      "cell_type": "code",
      "metadata": {
        "colab": {
          "base_uri": "https://localhost:8080/"
        },
        "id": "bns9opIniZfw",
        "outputId": "c775b801-07b9-4467-f614-784bab91a3fb"
      },
      "source": [
        "# Testing validation Dataset\r\n",
        "imgs=dataset_val[0]\r\n",
        "\r\n",
        "print(imgs.shape, imgs[0,:].shape)\r\n",
        "\r\n",
        "# data_iter=iter(dataloader_val)\r\n",
        "# images=data_iter.next()\r\n",
        "# print(images.shape) #torch.Size([16, 10, 1, 105, 105])\r\n",
        "\r\n",
        "for i in range(ways):\r\n",
        "  img=imgs[i,:]\r\n",
        "  plt.subplot(5,5,(i+1))\r\n",
        "  plt.imshow(transforms.ToPILImage()(img.mul_(std_val).add_(mean_val)), cmap='gray')\r\n"
      ],
      "execution_count": null,
      "outputs": [
        {
          "output_type": "stream",
          "text": [
            "torch.Size([10, 1, 105, 105]) torch.Size([1, 105, 105])\n"
          ],
          "name": "stdout"
        },
        {
          "output_type": "display_data",
          "data": {
            "image/png": "[encoded data removed]",
            "text/plain": [
              "<Figure size 432x288 with 10 Axes>"
            ]
          },
          "metadata": {
            "tags": [],
            "needs_background": "light"
          }
        }
      ]
    },
    {
      "cell_type": "markdown",
      "metadata": {
        "id": "S_0aTI01kIcZ"
      },
      "source": [
        "# Training"
      ]
    },
    {
      "cell_type": "code",
      "metadata": {
        "id": "BzWYZG6nrPQi"
      },
      "source": [
        "# change to True if you are resuming(Make sure to set the path for checkpoint in the next cell)\r\n",
        "resume_training=False"
      ],
      "execution_count": null,
      "outputs": []
    },
    {
      "cell_type": "code",
      "metadata": {
        "id": "R0kTpvF_UvT3"
      },
      "source": [
        "device = torch.device(\"cuda\" if torch.cuda.is_available() else \"cpu\")\r\n",
        "\r\n",
        "model=Siamese_Net().to(device)\r\n",
        "\r\n",
        "loss_function=nn.BCEWithLogitsLoss()\r\n",
        "optimizer=optim.Adam(model.parameters(),lr=3e-4,weight_decay=6e-5)\r\n",
        "\r\n",
        "# lr_scheduler=optim.lr_scheduler.ReduceLROnPlateau(optimizer, patience=4, verbose=True)\r\n",
        "# lr_scheduler=optim.lr_scheduler.ExponentialLR(optimizer, gamma=0.99, verbose=True)\r\n",
        "\r\n",
        "start_epoch=0\r\n",
        "epochs=80\r\n",
        "\r\n",
        "if resume_training:\r\n",
        "  checkpoint = torch.load('/content/drive/MyDrive/dataset/ckpts_newest_2/checkp60.pt')\r\n",
        "  model.load_state_dict(checkpoint['model_state_dict'])\r\n",
        "  optimizer.load_state_dict(checkpoint['optimizer_state_dict'])\r\n",
        "  start_epoch = checkpoint['epoch']\r\n",
        "  # loss_function = checkpoint['loss']"
      ],
      "execution_count": null,
      "outputs": []
    },
    {
      "cell_type": "code",
      "metadata": {
        "colab": {
          "base_uri": "https://localhost:8080/"
        },
        "id": "LkPGycT_ZFXM",
        "outputId": "da5d6099-0a37-4d6a-fb47-557b7e395568"
      },
      "source": [
        "# Train Network\r\n",
        "\r\n",
        "t_loss,accuracy=[],[]\r\n",
        "val_every=1\r\n",
        "save_every=20\r\n",
        "\r\n",
        "for epoch in range(start_epoch, epochs+1):\r\n",
        "  t_loss_batch=[]\r\n",
        "  \r\n",
        "  # ----------------------training---------------------------------------------\r\n",
        "  model.train()\r\n",
        "  for batch_idx, (img1, img2, isSame) in enumerate(dataloader_train):\r\n",
        "    # Get data to cuda if possible\r\n",
        "    img1, img2, isSame= img1.to(device),img2.to(device),isSame.to(device)\r\n",
        "\r\n",
        "    # forward\r\n",
        "    scores = model(img1, img2)\r\n",
        "    loss = loss_function(scores, isSame)\r\n",
        "    \r\n",
        "    # backward\r\n",
        "    optimizer.zero_grad()\r\n",
        "    loss.backward()\r\n",
        "\r\n",
        "    # update weights\r\n",
        "    optimizer.step()\r\n",
        "\r\n",
        "    t_loss_batch.append(loss.item())\r\n",
        "  \r\n",
        "  mean_loss=sum(t_loss_batch)/len(t_loss_batch)\r\n",
        "  t_loss.append(mean_loss)\r\n",
        "  # ------------------------lr scheduler---------------------------------------------\r\n",
        "  \r\n",
        "  # for ExponentialLR \r\n",
        "  # lr_scheduler.step()\r\n",
        "  \r\n",
        "  # forReduceLROnPlateau\r\n",
        "  # lr_scheduler.step(mean_loss)\r\n",
        "  \r\n",
        "  # -----------------------------Validation----------------------------------\r\n",
        "  if epoch%val_every==0:\r\n",
        "    model.eval()\r\n",
        "    with torch.no_grad():\r\n",
        "      batch_accuracy=[]\r\n",
        "      for batch_idx,images in enumerate(dataloader_val):\r\n",
        "        score_l,correct=[],0\r\n",
        "        images=images.to(device)\r\n",
        "        img1=images[:,0,:]\r\n",
        "\r\n",
        "        for i in range(1,ways):\r\n",
        "          score=torch.sigmoid(model(img1,images[:,i,:]))\r\n",
        "          score_l.append(score)\r\n",
        "\r\n",
        "        scores=torch.stack(score_l)\r\n",
        "\r\n",
        "        results=torch.argmax(scores,0)\r\n",
        "\r\n",
        "        for i in range(results.shape[0]):\r\n",
        "          if results[i,:].item()==0:\r\n",
        "            correct+=1\r\n",
        "\r\n",
        "        total=images.shape[0]\r\n",
        "        batch_accuracy.append(correct/total)\r\n",
        "\r\n",
        "      # finding the accuracy of that epoch\r\n",
        "      accuracy.append(sum(batch_accuracy)/len(batch_accuracy))\r\n",
        "    print(f'Epoch No.:{epoch} training loss:{t_loss[-1]}  validation accuracy:{accuracy[-1]*100}%')\r\n",
        "  \r\n",
        "  if epoch%save_every==0:\r\n",
        "    torch.save({\r\n",
        "            'epoch': epoch,\r\n",
        "            'model_state_dict': model.state_dict(),\r\n",
        "            'optimizer_state_dict': optimizer.state_dict(),\r\n",
        "            'loss': t_loss[-1],\r\n",
        "            }, f'/content/drive/MyDrive/dataset/ckpts_newest_2/checkp{epoch}.pt')\r\n",
        "    "
      ],
      "execution_count": null,
      "outputs": [
        {
          "output_type": "stream",
          "text": [
            "Epoch No.:0 training loss:0.5440679761136716  validation accuracy:35.601233818770226%\n",
            "Epoch No.:1 training loss:0.42466475372492524  validation accuracy:56.15645226537217%\n",
            "Epoch No.:2 training loss:0.33989964011917473  validation accuracy:64.07261326860841%\n",
            "Epoch No.:3 training loss:0.27276568755940284  validation accuracy:69.8801577669903%\n",
            "Epoch No.:4 training loss:0.2383774647079563  validation accuracy:68.25697815533981%\n",
            "Epoch No.:5 training loss:0.20758283329331528  validation accuracy:74.49686488673139%\n",
            "Epoch No.:6 training loss:0.1947164806394347  validation accuracy:78.65594660194175%\n",
            "Epoch No.:7 training loss:0.17620207666114157  validation accuracy:81.67728559870551%\n",
            "Epoch No.:8 training loss:0.1689928356619915  validation accuracy:79.87965210355988%\n",
            "Epoch No.:9 training loss:0.16239056748828823  validation accuracy:81.81128640776699%\n",
            "Epoch No.:10 training loss:0.15045524757139045  validation accuracy:81.54581310679612%\n",
            "Epoch No.:11 training loss:0.1451956426937334  validation accuracy:83.68224110032362%\n",
            "Epoch No.:12 training loss:0.1388741614776219  validation accuracy:86.23331310679612%\n",
            "Epoch No.:13 training loss:0.1296155734656232  validation accuracy:83.105784789644%\n",
            "Epoch No.:14 training loss:0.12659657016682488  validation accuracy:85.7276496763754%\n",
            "Epoch No.:15 training loss:0.123145468252483  validation accuracy:86.70105177993527%\n",
            "Epoch No.:16 training loss:0.12520416371439316  validation accuracy:85.98806634304206%\n",
            "Epoch No.:17 training loss:0.12126449976518318  validation accuracy:86.5063713592233%\n",
            "Epoch No.:18 training loss:0.11553534260483389  validation accuracy:85.33576051779936%\n",
            "Epoch No.:19 training loss:0.11640896879801241  validation accuracy:85.84900889967638%\n",
            "Epoch No.:20 training loss:0.1039811758409521  validation accuracy:87.13339401294498%\n",
            "Epoch No.:21 training loss:0.10259652691023788  validation accuracy:85.10315533980582%\n",
            "Epoch No.:22 training loss:0.10644253787982637  validation accuracy:88.21804207119742%\n",
            "Epoch No.:23 training loss:0.1008607646786604  validation accuracy:85.98806634304206%\n",
            "Epoch No.:24 training loss:0.10536386849265932  validation accuracy:86.792071197411%\n",
            "Epoch No.:25 training loss:0.0973385804560793  validation accuracy:86.16757686084144%\n",
            "Epoch No.:26 training loss:0.10141310135281309  validation accuracy:88.32170307443367%\n",
            "Epoch No.:27 training loss:0.09871507282272228  validation accuracy:87.7149069579288%\n",
            "Epoch No.:28 training loss:0.09092128179016759  validation accuracy:88.58717637540452%\n",
            "Epoch No.:29 training loss:0.09334708547598346  validation accuracy:86.30916262135922%\n",
            "Epoch No.:30 training loss:0.09193160135909544  validation accuracy:87.28003640776699%\n",
            "Epoch No.:31 training loss:0.09038847474288582  validation accuracy:89.57069174757282%\n",
            "Epoch No.:32 training loss:0.08587981638946876  validation accuracy:89.98027912621359%\n",
            "Epoch No.:33 training loss:0.08844734188652292  validation accuracy:88.96389563106796%\n",
            "Epoch No.:34 training loss:0.08293136320216002  validation accuracy:90.42779126213593%\n",
            "Epoch No.:35 training loss:0.08895485296563334  validation accuracy:88.79702669902912%\n",
            "Epoch No.:36 training loss:0.08172120417408352  validation accuracy:88.4911003236246%\n",
            "Epoch No.:37 training loss:0.07994516789913178  validation accuracy:88.69083737864078%\n",
            "Epoch No.:38 training loss:0.07943791069604333  validation accuracy:89.29763349514563%\n",
            "Epoch No.:39 training loss:0.08050349097838046  validation accuracy:86.59991909385114%\n",
            "Epoch No.:40 training loss:0.0789336650964661  validation accuracy:88.6427993527508%\n",
            "Epoch No.:41 training loss:0.08163359300967661  validation accuracy:89.78054207119742%\n",
            "Epoch No.:42 training loss:0.08226939829093446  validation accuracy:90.09405339805825%\n",
            "Epoch No.:43 training loss:0.08010896904030776  validation accuracy:88.45823220064726%\n",
            "Epoch No.:44 training loss:0.07909735119379903  validation accuracy:89.75778721682848%\n",
            "Epoch No.:45 training loss:0.07744679675588222  validation accuracy:90.24575242718447%\n",
            "Epoch No.:46 training loss:0.07040458586805064  validation accuracy:88.73887540453075%\n",
            "Epoch No.:47 training loss:0.07772438936418548  validation accuracy:87.37611245954692%\n",
            "Epoch No.:48 training loss:0.07147153544092852  validation accuracy:89.65918284789643%\n",
            "Epoch No.:49 training loss:0.07402199648274302  validation accuracy:90.77922734627832%\n",
            "Epoch No.:50 training loss:0.07511980667733491  validation accuracy:90.61741504854369%\n",
            "Epoch No.:51 training loss:0.06837908026155594  validation accuracy:90.68820792880258%\n",
            "Epoch No.:52 training loss:0.07560188127140596  validation accuracy:90.52386731391586%\n",
            "Epoch No.:53 training loss:0.07057667371364797  validation accuracy:90.3393001618123%\n",
            "Epoch No.:54 training loss:0.06742048022430004  validation accuracy:91.112965210356%\n",
            "Epoch No.:55 training loss:0.06995438747639339  validation accuracy:89.98027912621359%\n",
            "Epoch No.:56 training loss:0.07425505868130251  validation accuracy:90.71601941747572%\n",
            "Epoch No.:57 training loss:0.06759854211806246  validation accuracy:90.79186893203884%\n",
            "Epoch No.:58 training loss:0.06635383909140208  validation accuracy:89.85133495145631%\n",
            "Epoch No.:59 training loss:0.06764718106681195  validation accuracy:88.75151699029125%\n",
            "Epoch No.:60 training loss:0.07181805824663845  validation accuracy:90.10922330097088%\n",
            "Epoch No.:61 training loss:0.06847473778066329  validation accuracy:90.91575647249192%\n",
            "Epoch No.:62 training loss:0.06333852998807996  validation accuracy:90.9814927184466%\n",
            "Epoch No.:63 training loss:0.06538536771610225  validation accuracy:91.03458737864078%\n",
            "Epoch No.:64 training loss:0.06437344019517642  validation accuracy:90.13450647249192%\n",
            "Epoch No.:65 training loss:0.07071100144388147  validation accuracy:91.00930420711974%\n",
            "Epoch No.:66 training loss:0.05981103620120939  validation accuracy:90.60983009708737%\n",
            "Epoch No.:67 training loss:0.07240454757738765  validation accuracy:90.42779126213593%\n",
            "Epoch No.:68 training loss:0.0560007972610898  validation accuracy:90.4202063106796%\n",
            "Epoch No.:69 training loss:0.06798225867221928  validation accuracy:89.82858009708737%\n",
            "Epoch No.:70 training loss:0.06450494786500313  validation accuracy:90.89552993527508%\n",
            "Epoch No.:71 training loss:0.060995945282361595  validation accuracy:90.331715210356%\n",
            "Epoch No.:72 training loss:0.06378179279946301  validation accuracy:91.22168284789643%\n",
            "Epoch No.:73 training loss:0.06441527794151958  validation accuracy:90.64775485436894%\n",
            "Epoch No.:74 training loss:0.06033496184939233  validation accuracy:90.87024676375405%\n",
            "Epoch No.:75 training loss:0.06264743488349593  validation accuracy:91.68689320388349%\n",
            "Epoch No.:76 training loss:0.061219517984359886  validation accuracy:90.82726537216827%\n",
            "Epoch No.:77 training loss:0.062772780840374  validation accuracy:91.43406148867314%\n",
            "Epoch No.:78 training loss:0.05962621012443669  validation accuracy:90.77669902912622%\n",
            "Epoch No.:79 training loss:0.06437536908528106  validation accuracy:88.43800566343042%\n",
            "Epoch No.:80 training loss:0.06080473121284619  validation accuracy:90.89805825242718%\n"
          ],
          "name": "stdout"
        }
      ]
    },
    {
      "cell_type": "code",
      "metadata": {
        "id": "MhLs0V3TWG4z",
        "colab": {
          "base_uri": "https://localhost:8080/",
          "height": 325
        },
        "outputId": "b651602d-ae7c-4f3d-a176-3b5d2bf8eeda"
      },
      "source": [
        "# Training loss graph\r\n",
        "print(f'Mean Loss: {sum(t_loss)/len(t_loss):.3f}')\r\n",
        "plt.style.use('seaborn-whitegrid')\r\n",
        "\r\n",
        "fig = plt.figure()\r\n",
        "ax = plt.axes()\r\n",
        "ax.plot(t_loss,label='Training Loss')\r\n",
        "# ax.plot(v_loss,label='Validation Loss')\r\n",
        "ax.legend()\r\n",
        "ax.set_title('Training loss')\r\n",
        "ax.set_xlabel('Epochs')\r\n",
        "ax.set_ylabel('Loss')"
      ],
      "execution_count": null,
      "outputs": [
        {
          "output_type": "stream",
          "text": [
            "Mean Loss: 0.107\n"
          ],
          "name": "stdout"
        },
        {
          "output_type": "execute_result",
          "data": {
            "text/plain": [
              "Text(0, 0.5, 'Loss')"
            ]
          },
          "metadata": {
            "tags": []
          },
          "execution_count": 29
        },
        {
          "output_type": "display_data",
          "data": {
            "image/png": "[encoded data removed]",
            "text/plain": [
              "<Figure size 432x288 with 1 Axes>"
            ]
          },
          "metadata": {
            "tags": []
          }
        }
      ]
    },
    {
      "cell_type": "code",
      "metadata": {
        "id": "lYi1EigLIuAk",
        "colab": {
          "base_uri": "https://localhost:8080/",
          "height": 342
        },
        "outputId": "23066b55-81d4-4c0e-9968-1aa49364b8e5"
      },
      "source": [
        "# Accuracy graph\r\n",
        "print(f'Mean Accuracy: {sum(accuracy)/len(accuracy)*100:.3f}%')\r\n",
        "print(max(accuracy))\r\n",
        "plt.style.use('seaborn-whitegrid')\r\n",
        "fig = plt.figure()\r\n",
        "ax = plt.axes()\r\n",
        "ax.plot(accuracy,label='Validation accuracy')\r\n",
        "# ax.plot(v_loss,label='Validation Loss')\r\n",
        "ax.legend()\r\n",
        "ax.set_title('Validation Accuracy')\r\n",
        "ax.set_xlabel('Epochs')\r\n",
        "ax.set_ylabel('Accuracy')"
      ],
      "execution_count": null,
      "outputs": [
        {
          "output_type": "stream",
          "text": [
            "Mean Accuracy: 86.420%\n",
            "0.9168689320388349\n"
          ],
          "name": "stdout"
        },
        {
          "output_type": "execute_result",
          "data": {
            "text/plain": [
              "Text(0, 0.5, 'Accuracy')"
            ]
          },
          "metadata": {
            "tags": []
          },
          "execution_count": 30
        },
        {
          "output_type": "display_data",
          "data": {
            "image/png": "[encoded data removed]",
            "text/plain": [
              "<Figure size 432x288 with 1 Axes>"
            ]
          },
          "metadata": {
            "tags": []
          }
        }
      ]
    },
    {
      "cell_type": "code",
      "metadata": {
        "colab": {
          "base_uri": "https://localhost:8080/"
        },
        "id": "hmpaCmVHGct2",
        "outputId": "1322bf2a-ff02-4286-9839-6b637fd286aa"
      },
      "source": [
        "# training accuracy for Omniglot\r\n",
        "\r\n",
        "device = torch.device(\"cuda\" if torch.cuda.is_available() else \"cpu\")\r\n",
        "\r\n",
        "model=Siamese_Net().to(device)\r\n",
        "checkpoint = torch.load('/content/drive/MyDrive/dataset/ckpts_newest_2/checkp80.pt')\r\n",
        "model.load_state_dict(checkpoint['model_state_dict'])\r\n",
        "\r\n",
        "ways=10\r\n",
        "\r\n",
        "dataset_train_acc=Face_Dataset(train_root,job='val', ways=ways,transform=transforms.Compose([\r\n",
        "                                                                                             transforms.Resize((105,105)),\r\n",
        "                                                                                             transforms.ToTensor(),\r\n",
        "                                                                                             transforms.Normalize([mean.item()],[std.item()])\r\n",
        "                                                                                             ]\r\n",
        "))\r\n",
        "\r\n",
        "dataloader_train_acc=DataLoader(dataset=dataset_train_acc, batch_size=batch_size)\r\n",
        "\r\n",
        "# finding accuracy\r\n",
        "model.eval()\r\n",
        "with torch.no_grad():\r\n",
        "  batch_accuracy=[]\r\n",
        "  for batch_idx,images in enumerate(dataloader_train_acc):\r\n",
        "    score_l,correct=[],0\r\n",
        "    images=images.to(device)\r\n",
        "    img1=images[:,0,:]\r\n",
        "\r\n",
        "    for i in range(1,ways):\r\n",
        "      score=torch.sigmoid(model(img1,images[:,i,:]))\r\n",
        "      score_l.append(score)\r\n",
        "\r\n",
        "    scores=torch.stack(score_l)\r\n",
        "\r\n",
        "    results=torch.argmax(scores,0)\r\n",
        "\r\n",
        "    for i in range(results.shape[0]):\r\n",
        "      if results[i,:].item()==0:\r\n",
        "        correct+=1\r\n",
        "\r\n",
        "    total=images.shape[0]\r\n",
        "    batch_accuracy.append(correct/total)\r\n",
        "  print(f'Training accuracy: {sum(batch_accuracy)/len(batch_accuracy)*100:.3f}%')"
      ],
      "execution_count": null,
      "outputs": [
        {
          "output_type": "stream",
          "text": [
            "['Syriac_(Estrangelo)', 'Tagalog', 'Asomtavruli_(Georgian)', 'Hebrew', 'Sanskrit', 'Inuktitut_(Canadian_Aboriginal_Syllabics)', 'Cyrillic', 'Ojibwe_(Canadian_Aboriginal_Syllabics)', 'Korean', 'Armenian', 'Bengali', 'Gujarati', 'Mkhedruli_(Georgian)', 'Arcadian', 'Anglo-Saxon_Futhorc', 'Latin', 'Futurama', 'Grantha', 'Tifinagh', 'Japanese_(katakana)', 'N_Ko', 'Blackfoot_(Canadian_Aboriginal_Syllabics)', 'Burmese_(Myanmar)', 'Alphabet_of_the_Magi', 'Greek', 'Japanese_(hiragana)', 'Balinese', 'Braille', 'Malay_(Jawi_-_Arabic)', 'Early_Aramaic']\n",
            "Training accuracy: 98.449%\n"
          ],
          "name": "stdout"
        }
      ]
    }
  ]
}
